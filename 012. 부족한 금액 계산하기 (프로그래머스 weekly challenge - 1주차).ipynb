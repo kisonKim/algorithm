{
 "cells": [
  {
   "cell_type": "markdown",
   "id": "1bad764b",
   "metadata": {},
   "source": [
    "## 문제설명\n",
    "새로 생긴 놀이기구는 인기가 매우 많아 줄이 끊이질 않습니다. 이 놀이기구의 원래 이용료는 price원 인데, 놀이기구를 N 번 째 이용한다면 원래 이용료의 N배를 받기로 하였습니다. 즉, 처음 이용료가 100이었다면 2번째에는 200, 3번째에는 300으로 요금이 인상됩니다.\n",
    "놀이기구를 count번 타게 되면 현재 자신이 가지고 있는 금액에서 얼마가 모자라는지를 return 하도록 solution 함수를 완성하세요.\n",
    "단, 금액이 부족하지 않으면 0을 return 하세요."
   ]
  },
  {
   "cell_type": "markdown",
   "id": "7c458c31",
   "metadata": {},
   "source": [
    "## 제한사항\n",
    "놀이기구의 이용료 price : 1 ≤ price ≤ 2,500, price는 자연수\n",
    "처음 가지고 있던 금액 money : 1 ≤ money ≤ 1,000,000,000, money는 자연수\n",
    "놀이기구의 이용 횟수 count : 1 ≤ count ≤ 2,500, count는 자연수"
   ]
  },
  {
   "cell_type": "markdown",
   "id": "2df38e2c",
   "metadata": {},
   "source": [
    "## INPUT\n",
    "\n",
    "price|money|count|result\n",
    "---|---|---|---\n",
    "3|20|4|10\n"
   ]
  },
  {
   "cell_type": "code",
   "execution_count": null,
   "id": "f6ee73d8",
   "metadata": {},
   "outputs": [],
   "source": [
    "def solution(price, money, count):\n",
    "    answer = -1;\n",
    "    sumVal = 0;\n",
    "    for i in range(1,count+1):\n",
    "        sumVal += i*price\n",
    "    \n",
    "    answer = money-sumVal\n",
    "\n",
    "    if answer <0 :\n",
    "        return answer*-1\n",
    "    \n",
    "    return 0"
   ]
  }
 ],
 "metadata": {
  "kernelspec": {
   "display_name": "Python 3",
   "language": "python",
   "name": "python3"
  },
  "language_info": {
   "codemirror_mode": {
    "name": "ipython",
    "version": 3
   },
   "file_extension": ".py",
   "mimetype": "text/x-python",
   "name": "python",
   "nbconvert_exporter": "python",
   "pygments_lexer": "ipython3",
   "version": "3.8.8"
  }
 },
 "nbformat": 4,
 "nbformat_minor": 5
}
