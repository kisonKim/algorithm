{
 "cells": [
  {
   "cell_type": "markdown",
   "id": "96455c08",
   "metadata": {},
   "source": [
    "## 문제설명\n",
    "명함 지갑을 만드는 회사에서 지갑의 크기를 정하려고 합니다. 다양한 모양과 크기의 명함들을 모두 수납할 수 있으면서, 작아서 들고 다니기 편한 지갑을 만들어야 합니다. 이러한 요건을 만족하는 지갑을 만들기 위해 디자인팀은 모든 명함의 가로 길이와 세로 길이를 조사했습니다.\n",
    "\n",
    "아래 표는 4가지 명함의 가로 길이와 세로 길이를 나타냅니다.\n",
    "\n",
    "명함 번호|가로 길이|세로 길이\n",
    "---|---|---\n",
    "1|60|50\n",
    "2|30|70\n",
    "3|60|30\n",
    "4|80|40\n",
    "\n",
    "가장 긴 가로 길이와 세로 길이가 각각 80, 70이기 때문에 80(가로) x 70(세로) 크기의 지갑을 만들면 모든 명함들을 수납할 수 있습니다. 하지만 2번 명함을 가로로 눕혀 수납한다면 80(가로) x 50(세로) 크기의 지갑으로 모든 명함들을 수납할 수 있습니다. 이때의 지갑 크기는 4000(=80 x 50)입니다.\n",
    "\n",
    "모든 명함의 가로 길이와 세로 길이를 나타내는 2차원 배열 sizes가 매개변수로 주어집니다. 모든 명함을 수납할 수 있는 가장 작은 지갑을 만들 때, 지갑의 크기를 return 하도록 solution 함수를 완성해주세요."
   ]
  },
  {
   "cell_type": "markdown",
   "id": "2d7a7787",
   "metadata": {},
   "source": [
    "## 제한사항\n",
    "- sizes의 길이는 1 이상 10,000 이하입니다.\n",
    "- sizes의 원소는 [w, h] 형식입니다.\n",
    "- w는 명함의 가로 길이를 나타냅니다.\n",
    "- h는 명함의 세로 길이를 나타냅니다.\n",
    "- w와 h는 1 이상 1,000 이하인 자연수입니다."
   ]
  },
  {
   "cell_type": "markdown",
   "id": "0a74337d",
   "metadata": {},
   "source": [
    "## INPUT\n",
    "\n",
    "sizes|result\n",
    "----------|---\n",
    "[[60, 50], [30, 70], [60, 30], [80, 40]]|4000\n",
    "[[10, 7], [12, 3], [8, 15], [14, 7], [5, 15]]|120\n",
    "[[14, 4], [19, 6], [6, 16], [18, 7], [7, 11]]|133"
   ]
  },
  {
   "cell_type": "code",
   "execution_count": null,
   "id": "1e1c9f37",
   "metadata": {},
   "outputs": [],
   "source": [
    "def solution(sizes):\n",
    "    answer = 0\n",
    "    \n",
    "    max_left = 0\n",
    "    max_right = 0\n",
    "    \n",
    "    for idx,name_card in enumerate(sizes):\n",
    "        sizes[idx] = sorted(name_card)\n",
    "        if sizes[idx][0] > max_left:\n",
    "            max_left = sizes[idx][0]\n",
    "        if sizes[idx][1] > max_right:\n",
    "            max_right = sizes[idx][1]\n",
    "    \n",
    "    answer = max_left*max_right\n",
    "    return answer"
   ]
  }
 ],
 "metadata": {
  "kernelspec": {
   "display_name": "Python 3",
   "language": "python",
   "name": "python3"
  },
  "language_info": {
   "codemirror_mode": {
    "name": "ipython",
    "version": 3
   },
   "file_extension": ".py",
   "mimetype": "text/x-python",
   "name": "python",
   "nbconvert_exporter": "python",
   "pygments_lexer": "ipython3",
   "version": "3.8.8"
  }
 },
 "nbformat": 4,
 "nbformat_minor": 5
}
