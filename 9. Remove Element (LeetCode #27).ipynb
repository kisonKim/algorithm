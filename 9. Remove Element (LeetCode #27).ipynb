{
 "cells": [
  {
   "cell_type": "markdown",
   "id": "36fd27a0",
   "metadata": {},
   "source": [
    "## Question\n",
    "Given an integer array nums and an integer val, remove all occurrences of val in nums in-place. \n",
    "The relative order of the elements may be changed.\n",
    "Since it is impossible to change the length of the array in some languages, \n",
    "you must instead have the result be placed in the first part of the array nums. \n",
    "More formally, if there are k elements after removing the duplicates, \n",
    "then the first k elements of nums should hold the final result. \n",
    "It does not matter what you leave beyond the first k elements.\n",
    "Return k after placing the final result in the first k slots of nums.\n",
    "Do not allocate extra space for another array. \n",
    "You must do this by modifying the input array in-place with O(1) extra memory."
   ]
  },
  {
   "cell_type": "markdown",
   "id": "b6d42288",
   "metadata": {},
   "source": [
    "## First Example\n",
    " Input: nums = [3,2,2,3], val = 3\n",
    " Output: 2, nums = [2,2,_,_]\n"
   ]
  },
  {
   "cell_type": "markdown",
   "id": "e341eaab",
   "metadata": {},
   "source": [
    "## Second Example\n",
    " Input: nums = [0,1,2,2,3,0,4,2], val = 2\n",
    " Output: 5, nums = [0,1,4,0,3,_,_,_]"
   ]
  },
  {
   "cell_type": "code",
   "execution_count": 29,
   "id": "2c33aa67",
   "metadata": {},
   "outputs": [],
   "source": [
    "class Solution:\n",
    "    def removeElement(self, nums: list, val: int) -> int:        \n",
    "        k = len(nums) - nums.count(val)\n",
    "        kxclusive = 0 \n",
    "        for i in range(len(nums)):\n",
    "            if nums[i] != val:\n",
    "                nums[kxclusive] = nums[i]\n",
    "                kxclusive+=1\n",
    "        return k\n",
    "    \n"
   ]
  },
  {
   "cell_type": "markdown",
   "id": "5fee5bc6",
   "metadata": {},
   "source": [
    "## Result\n",
    "#### Runtime: 46 ms, faster than 29.74% of Python3 online submissions for Remove Element.\n",
    "#### Memory Usage: 14.2 MB, less than 48.11% of Python3 online submissions for Remove Element."
   ]
  },
  {
   "cell_type": "code",
   "execution_count": null,
   "id": "264a4acd",
   "metadata": {},
   "outputs": [],
   "source": []
  }
 ],
 "metadata": {
  "kernelspec": {
   "display_name": "Python 3",
   "language": "python",
   "name": "python3"
  },
  "language_info": {
   "codemirror_mode": {
    "name": "ipython",
    "version": 3
   },
   "file_extension": ".py",
   "mimetype": "text/x-python",
   "name": "python",
   "nbconvert_exporter": "python",
   "pygments_lexer": "ipython3",
   "version": "3.8.8"
  }
 },
 "nbformat": 4,
 "nbformat_minor": 5
}
