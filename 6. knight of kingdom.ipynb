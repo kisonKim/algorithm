{
 "cells": [
  {
   "cell_type": "code",
   "execution_count": 5,
   "id": "dbdcbb9c",
   "metadata": {},
   "outputs": [
    {
     "name": "stdout",
     "output_type": "stream",
     "text": [
      "[2, 4, 6, 8, 10, 12, 14, 16, 18, 20]\n"
     ]
    }
   ],
   "source": [
    "# 짝수만 골라서 출력하는 문제(filter, lambda 사용)\n",
    "numbers = range(1,21)\n",
    "even_list = list(filter(lambda x:x%2==0,numbers))\n",
    "print(even_list)"
   ]
  },
  {
   "cell_type": "code",
   "execution_count": 42,
   "id": "7902dca2",
   "metadata": {},
   "outputs": [
    {
     "data": {
      "text/plain": [
       "2"
      ]
     },
     "execution_count": 42,
     "metadata": {},
     "output_type": "execute_result"
    }
   ],
   "source": [
    "import random\n",
    "#1~2 사이의 실수값 반환\n",
    "random.uniform(1,2) #1<= x < 2  임\n",
    "\n",
    "#1~5 사이의 정수 반환\n",
    "random.randint(1,5) #1<=x <=5 임\n"
   ]
  },
  {
   "cell_type": "code",
   "execution_count": 74,
   "id": "68739d36",
   "metadata": {},
   "outputs": [
    {
     "name": "stdout",
     "output_type": "stream",
     "text": [
      "a1\n",
      "2\n"
     ]
    }
   ],
   "source": [
    "c,r = list(input())\n",
    "caseArr = [[-2,-1],[-2,1],[2,-1],[2,1],[1,-2],[1,2],[-1,2],[-1,-2]] #수평, 수직\n",
    "\n",
    "changer = lambda x: int(ord(x)-96)\n",
    "\n",
    "count = 0\n",
    "for column,row in caseArr :\n",
    "    nextRow = row+int(r)\n",
    "    nextColumn = column+changer(c)\n",
    "    if nextRow>0 and nextRow<=8 and nextColumn>0 and nextColumn<=8 :\n",
    "        count+=1\n",
    "print(count)"
   ]
  },
  {
   "cell_type": "code",
   "execution_count": 86,
   "id": "bd6d2d5a",
   "metadata": {},
   "outputs": [
    {
     "name": "stdout",
     "output_type": "stream",
     "text": [
      "1 2 7 6 8 3 4 5 "
     ]
    }
   ],
   "source": [
    "#DFS 예제\n",
    "def dfs(graph,v,visited) : #그래프 리스트, 시작점, 방문리스트\n",
    "    #현재 노드 방문 처리\n",
    "    visited[v] = True\n",
    "    print(v,end=' ')\n",
    "    for i in graph[v] :\n",
    "        if not visited[i]:\n",
    "            dfs(graph,i,visited)\n",
    "\n",
    "graph =[\n",
    "    [],\n",
    "    [2,3,8], #1-2, 1-3, 1-8\n",
    "    [1,7],  #2 - 1,2 - 7\n",
    "    [1,4,5], #...\n",
    "    [3,5],\n",
    "    [3,4],\n",
    "    [7],\n",
    "    [2,6,8],\n",
    "    [1,7]\n",
    "]\n",
    "\n",
    "visited = [False]*9\n",
    "\n",
    "dfs(graph,1,visited)"
   ]
  },
  {
   "cell_type": "code",
   "execution_count": 3,
   "id": "4da76f1b",
   "metadata": {},
   "outputs": [
    {
     "name": "stdout",
     "output_type": "stream",
     "text": [
      "1 2 3 8 7 4 5 6 "
     ]
    }
   ],
   "source": [
    "#BFS 예제\n",
    "from collections import deque\n",
    "def bfs(graph,start,visited) :\n",
    "    queue = deque([start])\n",
    "    #현재 노드를 방문 처리\n",
    "    visited[start] = True\n",
    "    \n",
    "    #큐가 빌때까지 반복\n",
    "    while queue:\n",
    "        v = queue.popleft()\n",
    "        #큐에서 하나의 원소를 뽑아 출력 \n",
    "        print(v,end=' ')\n",
    "        #해당 원소와 연결된, 아직 방문하지 않은 원소들을 큐에 삽입\n",
    "        for i in graph[v]:\n",
    "            if not visited[i]: \n",
    "                queue.append(i)\n",
    "                visited[i] = True\n",
    "    \n",
    "graph =[\n",
    "    [],\n",
    "    [2,3,8], #1-2, 1-3, 1-8\n",
    "    [1,7],  #2 - 1,2 - 7\n",
    "    [1,4,5], #...\n",
    "    [3,5],\n",
    "    [3,4],\n",
    "    [7],\n",
    "    [2,6,8],\n",
    "    [1,7]\n",
    "]\n",
    "\n",
    "visited = [False]*9\n",
    "bfs(graph,1,visited)"
   ]
  },
  {
   "cell_type": "code",
   "execution_count": null,
   "id": "4175ee5b",
   "metadata": {},
   "outputs": [],
   "source": []
  }
 ],
 "metadata": {
  "kernelspec": {
   "display_name": "Python 3",
   "language": "python",
   "name": "python3"
  },
  "language_info": {
   "codemirror_mode": {
    "name": "ipython",
    "version": 3
   },
   "file_extension": ".py",
   "mimetype": "text/x-python",
   "name": "python",
   "nbconvert_exporter": "python",
   "pygments_lexer": "ipython3",
   "version": "3.8.8"
  }
 },
 "nbformat": 4,
 "nbformat_minor": 5
}
