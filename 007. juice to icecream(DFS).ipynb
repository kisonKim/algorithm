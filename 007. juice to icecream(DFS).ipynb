{
 "cells": [
  {
   "cell_type": "code",
   "execution_count": 20,
   "id": "bfabfef3",
   "metadata": {},
   "outputs": [
    {
     "name": "stdout",
     "output_type": "stream",
     "text": [
      "4 5\n",
      "00110\n",
      "00011\n",
      "11111\n",
      "00000\n",
      "3\n"
     ]
    }
   ],
   "source": [
    "#dfs 는 깊이 우선 탐색, 스택, 재귀 구조로 푼다.\n",
    "#4 5\n",
    "#00110\n",
    "#00011\n",
    "#11111\n",
    "#00000\n",
    "\n",
    "n,m = map(int,input().split())\n",
    "\n",
    "graph = []\n",
    "for i in range(n):\n",
    "    graph.append(list(map(int,input())))\n",
    "\n",
    "\n",
    "def dfs(x,y):\n",
    "    #범위를 벗어나면 종료\n",
    "    if x<=-1 or x>=n or y<=-1 or y>=m:\n",
    "        return False\n",
    "    #노드를 아직 방문하지 않은 경우\n",
    "    if graph[x][y]==0:\n",
    "        graph[x][y] = 1 # 방문처리\n",
    "        dfs(x-1,y) #위아래왼오 다 체크\n",
    "        dfs(x+1,y)\n",
    "        dfs(x,y-1)\n",
    "        dfs(x,y+1)\n",
    "        return True\n",
    "    return False\n",
    "\n",
    "result = 0\n",
    "for i in range(n):\n",
    "    for j in range(m):\n",
    "        if dfs(i,j) == True: #하나라도 있으면 True 반환함.\n",
    "            result += 1\n",
    "print(result)"
   ]
  },
  {
   "cell_type": "code",
   "execution_count": 48,
   "id": "35346ea9",
   "metadata": {},
   "outputs": [
    {
     "name": "stdout",
     "output_type": "stream",
     "text": [
      "5 5 3\n",
      "5 4\n",
      "5 2\n",
      "1 2\n",
      "3 4\n",
      "3 1\n",
      "[[], [2, 3], [1, 5], [1, 4], [3, 5], [4, 2]]\n",
      "3 1 2 5 4 \n",
      "3 1 4 2 5 "
     ]
    }
   ],
   "source": [
    "from collections import deque\n",
    "#백준 1260 DFS,BFS 연습\n",
    "# n m v\n",
    "\n",
    "n,m,v = map(int,input().split())\n",
    "graph = [[] for _ in range(n+1)]\n",
    "visited =[False]*(n+1)\n",
    "\n",
    "\n",
    "def dfs(graph,x):\n",
    "    visited[x] =True\n",
    "    print(x,end=' ')\n",
    "    for i in graph[x]:\n",
    "        if not visited[i]:\n",
    "            dfs(graph,i)\n",
    "            \n",
    "def bfs(graph,x):\n",
    "    queue = deque([x])\n",
    "    visited[x] = True\n",
    "\n",
    "    print(x,end=' ')\n",
    "    while queue:\n",
    "        node = queue.popleft()\n",
    "        for i in graph[node]:\n",
    "            if not visited[i]:\n",
    "                queue.append(i)\n",
    "                print(i, end=' ')\n",
    "                visited[i] = True\n",
    "                \n",
    "            \n",
    "        \n",
    "    \n",
    "    \n",
    "for i in range(m):\n",
    "    n1,n2 = map(int,input().split())\n",
    "    graph[n1].append(n2)\n",
    "    graph[n2].append(n1)\n",
    "    \n",
    "for i in range(m) :\n",
    "    graph[i].sort()\n",
    "\n",
    "    \n",
    "dfs(graph,v)\n",
    "visited =[False]*(n+1)\n",
    "print()\n",
    "bfs(graph,v)"
   ]
  },
  {
   "cell_type": "code",
   "execution_count": 16,
   "id": "e998cecf",
   "metadata": {},
   "outputs": [
    {
     "name": "stdout",
     "output_type": "stream",
     "text": [
      "5 4\n",
      "[[False, False, False, False], [False, False, False, False], [False, False, False, False], [False, False, False, False], [False, False, False, False]]\n"
     ]
    },
    {
     "ename": "KeyboardInterrupt",
     "evalue": "Interrupted by user",
     "output_type": "error",
     "traceback": [
      "\u001b[1;31m---------------------------------------------------------------------------\u001b[0m",
      "\u001b[1;31mKeyboardInterrupt\u001b[0m                         Traceback (most recent call last)",
      "\u001b[1;32m<ipython-input-16-a0edbbbe225e>\u001b[0m in \u001b[0;36m<module>\u001b[1;34m\u001b[0m\n\u001b[0;32m     11\u001b[0m \u001b[0mprint\u001b[0m\u001b[1;33m(\u001b[0m\u001b[0mvisited\u001b[0m\u001b[1;33m)\u001b[0m\u001b[1;33m\u001b[0m\u001b[1;33m\u001b[0m\u001b[0m\n\u001b[0;32m     12\u001b[0m \u001b[1;32mfor\u001b[0m \u001b[0mrow\u001b[0m \u001b[1;32min\u001b[0m \u001b[0mrange\u001b[0m\u001b[1;33m(\u001b[0m\u001b[0mn\u001b[0m\u001b[1;33m)\u001b[0m\u001b[1;33m:\u001b[0m\u001b[1;33m\u001b[0m\u001b[1;33m\u001b[0m\u001b[0m\n\u001b[1;32m---> 13\u001b[1;33m     \u001b[0mmap_arr\u001b[0m\u001b[1;33m.\u001b[0m\u001b[0mappend\u001b[0m\u001b[1;33m(\u001b[0m \u001b[0mlist\u001b[0m\u001b[1;33m(\u001b[0m\u001b[0mmap\u001b[0m\u001b[1;33m(\u001b[0m\u001b[0mint\u001b[0m\u001b[1;33m,\u001b[0m\u001b[0minput\u001b[0m\u001b[1;33m(\u001b[0m\u001b[1;33m)\u001b[0m\u001b[1;33m)\u001b[0m\u001b[1;33m)\u001b[0m \u001b[1;33m)\u001b[0m\u001b[1;33m\u001b[0m\u001b[1;33m\u001b[0m\u001b[0m\n\u001b[0m\u001b[0;32m     14\u001b[0m \u001b[1;33m\u001b[0m\u001b[0m\n\u001b[0;32m     15\u001b[0m \u001b[0mdfs\u001b[0m\u001b[1;33m(\u001b[0m\u001b[0mmap_arr\u001b[0m\u001b[1;33m,\u001b[0m\u001b[1;36m0\u001b[0m\u001b[1;33m,\u001b[0m\u001b[1;36m0\u001b[0m\u001b[1;33m,\u001b[0m\u001b[1;33m)\u001b[0m\u001b[1;33m\u001b[0m\u001b[1;33m\u001b[0m\u001b[0m\n",
      "\u001b[1;32m~\\anaconda3\\lib\\site-packages\\ipykernel\\kernelbase.py\u001b[0m in \u001b[0;36mraw_input\u001b[1;34m(self, prompt)\u001b[0m\n\u001b[0;32m    858\u001b[0m                 \u001b[1;34m\"raw_input was called, but this frontend does not support input requests.\"\u001b[0m\u001b[1;33m\u001b[0m\u001b[1;33m\u001b[0m\u001b[0m\n\u001b[0;32m    859\u001b[0m             )\n\u001b[1;32m--> 860\u001b[1;33m         return self._input_request(str(prompt),\n\u001b[0m\u001b[0;32m    861\u001b[0m             \u001b[0mself\u001b[0m\u001b[1;33m.\u001b[0m\u001b[0m_parent_ident\u001b[0m\u001b[1;33m,\u001b[0m\u001b[1;33m\u001b[0m\u001b[1;33m\u001b[0m\u001b[0m\n\u001b[0;32m    862\u001b[0m             \u001b[0mself\u001b[0m\u001b[1;33m.\u001b[0m\u001b[0m_parent_header\u001b[0m\u001b[1;33m,\u001b[0m\u001b[1;33m\u001b[0m\u001b[1;33m\u001b[0m\u001b[0m\n",
      "\u001b[1;32m~\\anaconda3\\lib\\site-packages\\ipykernel\\kernelbase.py\u001b[0m in \u001b[0;36m_input_request\u001b[1;34m(self, prompt, ident, parent, password)\u001b[0m\n\u001b[0;32m    902\u001b[0m             \u001b[1;32mexcept\u001b[0m \u001b[0mKeyboardInterrupt\u001b[0m\u001b[1;33m:\u001b[0m\u001b[1;33m\u001b[0m\u001b[1;33m\u001b[0m\u001b[0m\n\u001b[0;32m    903\u001b[0m                 \u001b[1;31m# re-raise KeyboardInterrupt, to truncate traceback\u001b[0m\u001b[1;33m\u001b[0m\u001b[1;33m\u001b[0m\u001b[1;33m\u001b[0m\u001b[0m\n\u001b[1;32m--> 904\u001b[1;33m                 \u001b[1;32mraise\u001b[0m \u001b[0mKeyboardInterrupt\u001b[0m\u001b[1;33m(\u001b[0m\u001b[1;34m\"Interrupted by user\"\u001b[0m\u001b[1;33m)\u001b[0m \u001b[1;32mfrom\u001b[0m \u001b[1;32mNone\u001b[0m\u001b[1;33m\u001b[0m\u001b[1;33m\u001b[0m\u001b[0m\n\u001b[0m\u001b[0;32m    905\u001b[0m             \u001b[1;32mexcept\u001b[0m \u001b[0mException\u001b[0m \u001b[1;32mas\u001b[0m \u001b[0me\u001b[0m\u001b[1;33m:\u001b[0m\u001b[1;33m\u001b[0m\u001b[1;33m\u001b[0m\u001b[0m\n\u001b[0;32m    906\u001b[0m                 \u001b[0mself\u001b[0m\u001b[1;33m.\u001b[0m\u001b[0mlog\u001b[0m\u001b[1;33m.\u001b[0m\u001b[0mwarning\u001b[0m\u001b[1;33m(\u001b[0m\u001b[1;34m\"Invalid Message:\"\u001b[0m\u001b[1;33m,\u001b[0m \u001b[0mexc_info\u001b[0m\u001b[1;33m=\u001b[0m\u001b[1;32mTrue\u001b[0m\u001b[1;33m)\u001b[0m\u001b[1;33m\u001b[0m\u001b[1;33m\u001b[0m\u001b[0m\n",
      "\u001b[1;31mKeyboardInterrupt\u001b[0m: Interrupted by user"
     ]
    }
   ],
   "source": [
    "n, m = map(int,input().split())\n",
    "# 4 5\n",
    "#00110\n",
    "#00011\n",
    "#11111\n",
    "#00000\n",
    "\n",
    "#dfs 알고리즘\n",
    "#상하좌우 direction 변수\n",
    "dr = [-1 ,1, 0, 0]\n",
    "dc = [0, 0, -1, 1]\n",
    "\n",
    "#icecream 그룹 카운팅 변수\n",
    "count = 0\n",
    "\n",
    "def dfs(graph,r,c,visited):\n",
    "    total_row = len(graph)\n",
    "    total_col = len(graph[0])\n",
    "    visited[r][c] = True\n",
    "    print('(',r,',',c,')', end=' ')\n",
    "    \n",
    "    for i in range(4):\n",
    "        row_direction = r + dr[i]\n",
    "        col_direction = r + dc[i]\n",
    "        if row_direction >= 0 and row_direction < total_row and col_direction >=0 and col_dirction < total_col:\n",
    "            if not visited[row_direction][col_direction]:\n",
    "                dfs(graph,row_direction,col_direction,visited)  \n",
    "    count+=1\n",
    "    \n",
    "    \n",
    "#0이면 체크\n",
    "# 전체 map array\n",
    "map_arr = []\n",
    "# 방문 map array\n",
    "visited = [ [False for i in range(m)] for j in range(n)]\n",
    "\n",
    "for row in range(n):\n",
    "    map_arr.append( list(map(int,input())) )\n",
    "\n",
    "dfs(map_arr,0,0,visited)\n",
    "\n",
    "    \n"
   ]
  },
  {
   "cell_type": "code",
   "execution_count": 18,
   "id": "75273173",
   "metadata": {},
   "outputs": [
    {
     "name": "stdout",
     "output_type": "stream",
     "text": [
      "6\n"
     ]
    }
   ],
   "source": []
  },
  {
   "cell_type": "code",
   "execution_count": null,
   "id": "b624b7a8",
   "metadata": {},
   "outputs": [],
   "source": []
  },
  {
   "cell_type": "code",
   "execution_count": null,
   "id": "cb7de2bf",
   "metadata": {},
   "outputs": [],
   "source": []
  },
  {
   "cell_type": "code",
   "execution_count": null,
   "id": "a81004fd",
   "metadata": {},
   "outputs": [],
   "source": []
  },
  {
   "cell_type": "code",
   "execution_count": null,
   "id": "706f36c8",
   "metadata": {},
   "outputs": [],
   "source": []
  },
  {
   "cell_type": "code",
   "execution_count": null,
   "id": "5b1c1e00",
   "metadata": {},
   "outputs": [],
   "source": []
  },
  {
   "cell_type": "code",
   "execution_count": null,
   "id": "744b9221",
   "metadata": {},
   "outputs": [],
   "source": []
  },
  {
   "cell_type": "code",
   "execution_count": null,
   "id": "72650dc6",
   "metadata": {},
   "outputs": [],
   "source": []
  },
  {
   "cell_type": "code",
   "execution_count": null,
   "id": "81b43648",
   "metadata": {},
   "outputs": [],
   "source": []
  },
  {
   "cell_type": "code",
   "execution_count": null,
   "id": "542dcb86",
   "metadata": {},
   "outputs": [],
   "source": []
  },
  {
   "cell_type": "code",
   "execution_count": null,
   "id": "3e27f76f",
   "metadata": {},
   "outputs": [],
   "source": []
  },
  {
   "cell_type": "code",
   "execution_count": null,
   "id": "0c7c2113",
   "metadata": {},
   "outputs": [],
   "source": []
  },
  {
   "cell_type": "code",
   "execution_count": null,
   "id": "3c717f39",
   "metadata": {},
   "outputs": [],
   "source": []
  },
  {
   "cell_type": "code",
   "execution_count": null,
   "id": "1177cddb",
   "metadata": {},
   "outputs": [],
   "source": []
  }
 ],
 "metadata": {
  "kernelspec": {
   "display_name": "Python 3",
   "language": "python",
   "name": "python3"
  },
  "language_info": {
   "codemirror_mode": {
    "name": "ipython",
    "version": 3
   },
   "file_extension": ".py",
   "mimetype": "text/x-python",
   "name": "python",
   "nbconvert_exporter": "python",
   "pygments_lexer": "ipython3",
   "version": "3.8.8"
  }
 },
 "nbformat": 4,
 "nbformat_minor": 5
}
