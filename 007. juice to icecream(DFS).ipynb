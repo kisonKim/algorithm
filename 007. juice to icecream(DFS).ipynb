{
 "cells": [
  {
   "cell_type": "code",
   "execution_count": 20,
   "id": "bfabfef3",
   "metadata": {},
   "outputs": [
    {
     "name": "stdout",
     "output_type": "stream",
     "text": [
      "4 5\n",
      "00110\n",
      "00011\n",
      "11111\n",
      "00000\n",
      "3\n"
     ]
    }
   ],
   "source": [
    "#dfs 는 깊이 우선 탐색, 스택, 재귀 구조로 푼다.\n",
    "#4 5\n",
    "#00110\n",
    "#00011\n",
    "#11111\n",
    "#00000\n",
    "\n",
    "n,m = map(int,input().split())\n",
    "\n",
    "graph = []\n",
    "for i in range(n):\n",
    "    graph.append(list(map(int,input())))\n",
    "\n",
    "\n",
    "def dfs(x,y):\n",
    "    #범위를 벗어나면 종료\n",
    "    if x<=-1 or x>=n or y<=-1 or y>=m:\n",
    "        return False\n",
    "    #노드를 아직 방문하지 않은 경우\n",
    "    if graph[x][y]==0:\n",
    "        graph[x][y] = 1 # 방문처리\n",
    "        dfs(x-1,y) #위아래왼오 다 체크\n",
    "        dfs(x+1,y)\n",
    "        dfs(x,y-1)\n",
    "        dfs(x,y+1)\n",
    "        return True\n",
    "    return False\n",
    "\n",
    "result = 0\n",
    "for i in range(n):\n",
    "    for j in range(m):\n",
    "        if dfs(i,j) == True: #하나라도 있으면 True 반환함.\n",
    "            result += 1\n",
    "print(result)"
   ]
  },
  {
   "cell_type": "code",
   "execution_count": 48,
   "id": "35346ea9",
   "metadata": {},
   "outputs": [
    {
     "name": "stdout",
     "output_type": "stream",
     "text": [
      "5 5 3\n",
      "5 4\n",
      "5 2\n",
      "1 2\n",
      "3 4\n",
      "3 1\n",
      "[[], [2, 3], [1, 5], [1, 4], [3, 5], [4, 2]]\n",
      "3 1 2 5 4 \n",
      "3 1 4 2 5 "
     ]
    }
   ],
   "source": [
    "from collections import deque\n",
    "#백준 1260 DFS,BFS 연습\n",
    "# n m v\n",
    "\n",
    "n,m,v = map(int,input().split())\n",
    "graph = [[] for _ in range(n+1)]\n",
    "visited =[False]*(n+1)\n",
    "\n",
    "\n",
    "def dfs(graph,x):\n",
    "    visited[x] =True\n",
    "    print(x,end=' ')\n",
    "    for i in graph[x]:\n",
    "        if not visited[i]:\n",
    "            dfs(graph,i)\n",
    "            \n",
    "def bfs(graph,x):\n",
    "    queue = deque([x])\n",
    "    visited[x] = True\n",
    "\n",
    "    print(x,end=' ')\n",
    "    while queue:\n",
    "        node = queue.popleft()\n",
    "        for i in graph[node]:\n",
    "            if not visited[i]:\n",
    "                queue.append(i)\n",
    "                print(i, end=' ')\n",
    "                visited[i] = True\n",
    "                \n",
    "            \n",
    "        \n",
    "    \n",
    "    \n",
    "for i in range(m):\n",
    "    n1,n2 = map(int,input().split())\n",
    "    graph[n1].append(n2)\n",
    "    graph[n2].append(n1)\n",
    "    \n",
    "for i in range(m) :\n",
    "    graph[i].sort()\n",
    "\n",
    "    \n",
    "dfs(graph,v)\n",
    "visited =[False]*(n+1)\n",
    "print()\n",
    "bfs(graph,v)"
   ]
  },
  {
   "cell_type": "code",
   "execution_count": null,
   "id": "e998cecf",
   "metadata": {},
   "outputs": [],
   "source": []
  }
 ],
 "metadata": {
  "kernelspec": {
   "display_name": "Python 3",
   "language": "python",
   "name": "python3"
  },
  "language_info": {
   "codemirror_mode": {
    "name": "ipython",
    "version": 3
   },
   "file_extension": ".py",
   "mimetype": "text/x-python",
   "name": "python",
   "nbconvert_exporter": "python",
   "pygments_lexer": "ipython3",
   "version": "3.8.8"
  }
 },
 "nbformat": 4,
 "nbformat_minor": 5
}
