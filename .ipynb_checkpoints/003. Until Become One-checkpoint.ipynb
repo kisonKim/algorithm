{
 "cells": [
  {
   "cell_type": "code",
   "execution_count": 2,
   "id": "e49b99cd",
   "metadata": {},
   "outputs": [
    {
     "name": "stdout",
     "output_type": "stream",
     "text": [
      "25 3\n",
      "6\n"
     ]
    }
   ],
   "source": [
    "N,K = map(int, input().split())\n",
    "#1빼거나, K로 나누거나 선택\n",
    "#처음에 K로 나눠지는지 확인\n",
    "#나눠지면 K로 나눠봄\n",
    "#나눠지지 않으면 1뺌\n",
    "count = 0\n",
    "while True :\n",
    "    if N == 1 :\n",
    "        break\n",
    "    if N%K == 0 : \n",
    "        N /= K\n",
    "        count+=1\n",
    "    else :\n",
    "        N -= 1\n",
    "        count+=1\n",
    "\n",
    "print(count)"
   ]
  },
  {
   "cell_type": "code",
   "execution_count": null,
   "id": "e36ebebc",
   "metadata": {},
   "outputs": [],
   "source": []
  }
 ],
 "metadata": {
  "kernelspec": {
   "display_name": "Python 3",
   "language": "python",
   "name": "python3"
  },
  "language_info": {
   "codemirror_mode": {
    "name": "ipython",
    "version": 3
   },
   "file_extension": ".py",
   "mimetype": "text/x-python",
   "name": "python",
   "nbconvert_exporter": "python",
   "pygments_lexer": "ipython3",
   "version": "3.8.8"
  }
 },
 "nbformat": 4,
 "nbformat_minor": 5
}
