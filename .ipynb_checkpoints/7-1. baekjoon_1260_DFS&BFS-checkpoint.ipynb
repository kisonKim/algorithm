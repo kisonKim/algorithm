{
 "cells": [
  {
   "cell_type": "code",
   "execution_count": null,
   "id": "05d110a4",
   "metadata": {},
   "outputs": [],
   "source": [
    "from collections import deque\n",
    "#백준 1260 DFS,BFS\n",
    "\n",
    "n,m,v = map(int,input().split())\n",
    "graph = [[] for _ in range(n+1)]\n",
    "visited =[False]*(n+1)\n",
    "\n",
    "\n",
    "def dfs(graph,x):\n",
    "    visited[x] =True\n",
    "    print(x,end=' ')\n",
    "    for i in graph[x]:\n",
    "        if not visited[i]:\n",
    "            dfs(graph,i)\n",
    "            \n",
    "def bfs(graph,x):\n",
    "    queue = deque([x])\n",
    "    visited[x] = True\n",
    "\n",
    "    print(x,end=' ')\n",
    "    while queue:\n",
    "        node = queue.popleft()\n",
    "        for i in graph[node]:\n",
    "            if not visited[i]:\n",
    "                queue.append(i)\n",
    "                print(i, end=' ')\n",
    "                visited[i] = True\n",
    "                \n",
    "            \n",
    "        \n",
    "    \n",
    "    \n",
    "for i in range(m):\n",
    "    n1,n2 = map(int,input().split())\n",
    "    graph[n1].append(n2)\n",
    "    graph[n2].append(n1)\n",
    "    \n",
    "for i in range(len(graph)) :\n",
    "    graph[i].sort()\n",
    "\n",
    "    \n",
    "dfs(graph,v)\n",
    "visited =[False]*(n+1)\n",
    "print()\n",
    "bfs(graph,v)"
   ]
  }
 ],
 "metadata": {
  "kernelspec": {
   "display_name": "Python 3",
   "language": "python",
   "name": "python3"
  },
  "language_info": {
   "codemirror_mode": {
    "name": "ipython",
    "version": 3
   },
   "file_extension": ".py",
   "mimetype": "text/x-python",
   "name": "python",
   "nbconvert_exporter": "python",
   "pygments_lexer": "ipython3",
   "version": "3.8.8"
  }
 },
 "nbformat": 4,
 "nbformat_minor": 5
}
