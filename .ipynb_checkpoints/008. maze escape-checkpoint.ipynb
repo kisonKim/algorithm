{
 "cells": [
  {
   "cell_type": "code",
   "execution_count": 4,
   "id": "cc4e808b",
   "metadata": {},
   "outputs": [
    {
     "name": "stdout",
     "output_type": "stream",
     "text": [
      "5 6\n",
      "101010\n",
      "111111\n",
      "000001\n",
      "111111\n",
      "111111\n",
      "10\n"
     ]
    }
   ],
   "source": [
    "#bfs 문제 - 미로탈출\n",
    "from collections import deque\n",
    "n,m = map(int,input().split())\n",
    "\n",
    "graph= []\n",
    "for _ in range(n):\n",
    "    graph.append(list(map(int, input())))\n",
    "\n",
    "dx=[-1,1,0,0]\n",
    "dy=[0,0,-1,1]\n",
    "\n",
    "def bfs(x,y):\n",
    "    queue = deque()\n",
    "    queue.append((x,y))\n",
    "    \n",
    "    while queue : \n",
    "        x,y = queue.popleft()\n",
    "        for i in range(4) :\n",
    "            nx = x+dx[i]\n",
    "            ny = y+dy[i]\n",
    "            if nx<=-1 or nx>=n or ny<=-1 or ny>=m :\n",
    "                continue\n",
    "            if graph[nx][ny]==0 :\n",
    "                continue\n",
    "            if graph[nx][ny] == 1:\n",
    "                graph[nx][ny] += graph[x][y]\n",
    "                queue.append((nx,ny))\n",
    "    return graph[n-1][m-1]\n",
    "\n",
    "print(bfs(0,0))\n",
    "\n"
   ]
  },
  {
   "cell_type": "code",
   "execution_count": null,
   "id": "b8eb6be5",
   "metadata": {},
   "outputs": [],
   "source": []
  }
 ],
 "metadata": {
  "kernelspec": {
   "display_name": "Python 3",
   "language": "python",
   "name": "python3"
  },
  "language_info": {
   "codemirror_mode": {
    "name": "ipython",
    "version": 3
   },
   "file_extension": ".py",
   "mimetype": "text/x-python",
   "name": "python",
   "nbconvert_exporter": "python",
   "pygments_lexer": "ipython3",
   "version": "3.8.8"
  }
 },
 "nbformat": 4,
 "nbformat_minor": 5
}
