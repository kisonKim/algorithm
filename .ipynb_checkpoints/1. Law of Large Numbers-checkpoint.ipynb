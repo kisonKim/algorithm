{
 "cells": [
  {
   "cell_type": "code",
   "execution_count": 5,
   "id": "9e930977",
   "metadata": {},
   "outputs": [
    {
     "name": "stdout",
     "output_type": "stream",
     "text": [
      "5 8 3\n",
      "2 4 5 4 6\n",
      "184\n"
     ]
    }
   ],
   "source": [
    "N,M,K = map(int, input().split())\n",
    "\n",
    "\n",
    "#N가지의 숫자 중에서, 수를 뽑아 M번을 더해서 만들 수 있는 수중에 가장 큰수를 찾는것. (수마다 반복이 가능한데, 반복횟수는 K번)\n",
    "#수를 뽑을때는 제일 큰수를 뽑고 그 다음수를 뽑아서 번갈아가면서 하면될듯.\n",
    "\n",
    "nArr = list(map(int, input().split()))\n",
    "\n",
    "#sorting\n",
    "nArr.sort()\n",
    "\n",
    "#1,2번째 큰수 찾기\n",
    "\n",
    "first = nArr[N-1]\n",
    "second = nArr[N-2]\n",
    "\n",
    "#1,2번째 수 반복으로 더하기\n",
    "result = 0\n",
    "count = 0\n",
    "while True :\n",
    "    for i in range(K) :\n",
    "        if M == 0 :\n",
    "            break\n",
    "        result += first\n",
    "        M -= 1\n",
    "    \n",
    "    if M == 0 :\n",
    "        break\n",
    "    result += second\n",
    "    M -= 1\n",
    "    \n",
    "#5 8 3\n",
    "#2 4 5 4 6\n",
    "\n",
    "#숫자 더한 수 리턴\n",
    "print(result)"
   ]
  },
  {
   "cell_type": "code",
   "execution_count": null,
   "id": "16773c31",
   "metadata": {},
   "outputs": [],
   "source": []
  }
 ],
 "metadata": {
  "kernelspec": {
   "display_name": "Python 3",
   "language": "python",
   "name": "python3"
  },
  "language_info": {
   "codemirror_mode": {
    "name": "ipython",
    "version": 3
   },
   "file_extension": ".py",
   "mimetype": "text/x-python",
   "name": "python",
   "nbconvert_exporter": "python",
   "pygments_lexer": "ipython3",
   "version": "3.8.8"
  }
 },
 "nbformat": 4,
 "nbformat_minor": 5
}
