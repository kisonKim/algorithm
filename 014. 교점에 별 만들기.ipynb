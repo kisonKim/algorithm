{
 "cells": [
  {
   "cell_type": "markdown",
   "id": "d907b452",
   "metadata": {},
   "source": [
    "## 교점에 별만들기 문제 링크\n",
    "\n",
    "https://programmers.co.kr/learn/courses/30/lessons/87377"
   ]
  },
  {
   "cell_type": "code",
   "execution_count": 5,
   "id": "6bcb0250",
   "metadata": {},
   "outputs": [
    {
     "name": "stdout",
     "output_type": "stream",
     "text": [
      "['....*....', '.........', '.........', '*.......*', '.........', '.........', '.........', '.........', '*.......*']\n",
      "----------\n",
      "['*.*']\n"
     ]
    }
   ],
   "source": [
    "from itertools import combinations\n",
    "import numpy as np\n",
    "\n",
    "def solution(line):\n",
    "    \n",
    "    answer = []\n",
    "    intersections = []\n",
    "    \n",
    "    temp_arr = combinations(line,2) #중복 제외, 2개의 직선을 뽑아서 교점 확인\n",
    "    for value in temp_arr:\n",
    "        #Ax + By + E = 0\n",
    "        #Cx + Dy + F = 0\n",
    "        a,b,e = map(int, value[0])\n",
    "        c,d,f = map(int, value[1])\n",
    "        \n",
    "        denominator = (a*d)-(b*c)\n",
    "        \n",
    "        #parallel check -> AD-BC = 0\n",
    "        if (a*d)-(b*c) == 0: \n",
    "            continue           \n",
    "        \n",
    "        #check intersection  \n",
    "        x_intersection = ((b*f)-(e*d))/denominator\n",
    "        y_intersection = ((e*c)-(a*f))/denominator\n",
    "        \n",
    "        #소수점인 경우 제외\n",
    "        if not (int(abs(x_intersection))<abs(x_intersection) or int(abs(y_intersection))<abs(y_intersection)):\n",
    "            x_intersection = int(x_intersection)\n",
    "            y_intersection = int(y_intersection)\n",
    "            intersections.append([x_intersection, y_intersection])\n",
    "            #min max 파악\n",
    "\n",
    "    min_range = np.min(intersections, axis=0)\n",
    "    max_range = np.max(intersections, axis=0)\n",
    "    \n",
    "    x_range = max_range[0]-min_range[0]+1\n",
    "    y_range = max_range[1]-min_range[1]+1\n",
    "    \n",
    "    answer = [[\".\"]*x_range for _ in range(y_range)]\n",
    "    \n",
    "    \n",
    "    zero_point = [min_range[0], max_range[1]] #기준점\n",
    "    \n",
    "    for index in range(len(intersections)):\n",
    "        intersections[index] = [abs(intersections[index][0]-zero_point[0]), abs(intersections[index][1]-zero_point[1])]\n",
    "        \n",
    "    for value in intersections:\n",
    "        x_point = value[0]\n",
    "        y_point = value[1]\n",
    "        answer[y_point][x_point] = \"*\"\n",
    "    \n",
    "    for index, value in enumerate(answer):\n",
    "        answer[index] = ''.join(map(str, value))\n",
    "    return answer\n",
    "\n",
    "print(solution([[2, -1, 4], [-2, -1, 4], [0, -1, 1], [5, -8, -12], [5, 8, 12]]))\n",
    "print('-'*10)\n",
    "print(solution([[0, 1, -1], [1, 0, -1], [1, 0, 1]]))"
   ]
  },
  {
   "cell_type": "code",
   "execution_count": null,
   "id": "18ffc622",
   "metadata": {},
   "outputs": [],
   "source": []
  }
 ],
 "metadata": {
  "kernelspec": {
   "display_name": "Python 3",
   "language": "python",
   "name": "python3"
  },
  "language_info": {
   "codemirror_mode": {
    "name": "ipython",
    "version": 3
   },
   "file_extension": ".py",
   "mimetype": "text/x-python",
   "name": "python",
   "nbconvert_exporter": "python",
   "pygments_lexer": "ipython3",
   "version": "3.8.8"
  }
 },
 "nbformat": 4,
 "nbformat_minor": 5
}
